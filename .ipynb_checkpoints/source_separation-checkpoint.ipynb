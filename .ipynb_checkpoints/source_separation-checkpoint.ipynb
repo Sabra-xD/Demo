{
 "cells": [
  {
   "cell_type": "code",
   "execution_count": 3,
   "id": "11e127fe-9d44-45a9-86d2-4fd7306fd211",
   "metadata": {},
   "outputs": [
    {
     "name": "stdout",
     "output_type": "stream",
     "text": [
      "Collecting pydub\n",
      "  Downloading pydub-0.25.1-py2.py3-none-any.whl.metadata (1.4 kB)\n",
      "Downloading pydub-0.25.1-py2.py3-none-any.whl (32 kB)\n",
      "Installing collected packages: pydub\n",
      "Successfully installed pydub-0.25.1\n",
      "Note: you may need to restart the kernel to use updated packages.\n"
     ]
    }
   ],
   "source": [
    "%pip install pydub"
   ]
  },
  {
   "cell_type": "code",
   "execution_count": 80,
   "id": "7ec7320e-8589-4559-8467-bd3ae429c4be",
   "metadata": {},
   "outputs": [],
   "source": [
    "from pydub import AudioSegment\n",
    "from pydub.utils import make_chunks\n",
    "from IPython.display import Audio, display\n",
    "import base64\n",
    "import json\n",
    "import requests\n",
    "import os\n",
    "import shutil\n"
   ]
  },
  {
   "cell_type": "code",
   "execution_count": 90,
   "id": "a9457910-db38-48e8-810e-00a7db4296a5",
   "metadata": {},
   "outputs": [],
   "source": [
    "def checkIfDirExists(dir):\n",
    "    if not os.path.exists(dir):\n",
    "        os.makedirs(dir)\n",
    "\n",
    "def combineWavFiles(output_folder, output_filename, input_dir):\n",
    "    if not os.path.exists(output_folder):\n",
    "        os.makedirs(output_folder)\n",
    "\n",
    "    wav_files = [f for f in os.listdir(input_dir) if f.endswith('.wav')]\n",
    "\n",
    "    \n",
    "    wav_files.sort()\n",
    "\n",
    "    combined_audio = AudioSegment.empty()\n",
    "\n",
    "    for wav_file in wav_files:\n",
    "        file_path = os.path.join(input_dir, wav_file)\n",
    "        print(f\"Adding {wav_file}...\")\n",
    "        audio = AudioSegment.from_wav(file_path)\n",
    "        combined_audio += audio  \n",
    "\n",
    "    if not output_filename.endswith('.wav'):\n",
    "        output_filename += '.wav'\n",
    "\n",
    "    output_file = os.path.join(output_folder, output_filename)\n",
    "\n",
    "    combined_audio.export(output_file, format=\"wav\")\n",
    "    print(f\"Combined audio saved to: {output_file}\")\n",
    "    return output_file\n"
   ]
  },
  {
   "cell_type": "code",
   "execution_count": 92,
   "id": "d781f29a-f1f2-4acd-b575-f4f263ace2aa",
   "metadata": {},
   "outputs": [],
   "source": [
    "\n",
    "def processAudioFile(input_file, output_dir, api_key, api_url):\n",
    "    temp_dir = \"temp_chunks\"\n",
    "    vocals_dir = \"vocals\"\n",
    "    crowd_dir = \"crowd\"\n",
    "    \n",
    "    checkIfDirExists(temp_dir)\n",
    "    checkIfDirExists(output_dir)\n",
    "    checkIfDirExists(vocals_dir)\n",
    "    checkIfDirExists(crowd_dir)\n",
    "\n",
    "    print(f\"Converting {input_file} to WAV...\")\n",
    "    audio = AudioSegment.from_file(input_file)\n",
    "    wav_file = os.path.splitext(input_file)[0] + \".wav\"\n",
    "    audio.export(wav_file, format=\"wav\")\n",
    "\n",
    "\n",
    "    print(\"Splitting WAV file into 30-second chunks...\")\n",
    "    chunk_length_ms = 30 * 1000  # 30 seconds\n",
    "    chunks = make_chunks(AudioSegment.from_file(wav_file), chunk_length_ms)\n",
    "\n",
    "    chunk_files = []\n",
    "    for i, chunk in enumerate(chunks):\n",
    "        chunk_name = os.path.join(temp_dir, f\"chunk_{i}.wav\")\n",
    "        chunk.export(chunk_name, format=\"wav\")\n",
    "        chunk_files.append(chunk_name)\n",
    "\n",
    " \n",
    "    separated_files = []\n",
    "    for chunk_file in chunk_files:\n",
    "        print(f\"Processing chunk: {chunk_file}\")\n",
    "\n",
    "    \n",
    "        with open(chunk_file, 'rb') as f:\n",
    "            audio_data = base64.b64encode(f.read()).decode('utf-8')\n",
    "\n",
    "       \n",
    "        payload = {\n",
    "            'audio': [\n",
    "                {\n",
    "                    'name': os.path.basename(chunk_file),\n",
    "                    'data': f'data:audio/wav;base64,{audio_data}'\n",
    "                }\n",
    "            ],\n",
    "            'algorithm': {\n",
    "                'name': 'default',\n",
    "                'option': [\n",
    "                    {'name': 'targets', 'data': ['vocals', 'drums', 'bass', 'other']},\n",
    "                    {'name': 'start_point', 'data': 0}\n",
    "                ]\n",
    "            }\n",
    "        }\n",
    "\n",
    " \n",
    "        headers = {'X-TH_API-Key': api_key, 'Content-Type': 'application/json'}\n",
    "        response = requests.post(api_url, headers=headers, data=json.dumps(payload))\n",
    "        if response.status_code == 200:\n",
    "            result = response.json()\n",
    "            for output in result.get('output', []):\n",
    "                audio_base64 = output['data'].split(',')[1]\n",
    "                audio_content = base64.b64decode(audio_base64)\n",
    "\n",
    "                if \"vocals\" in output['name']:\n",
    "                    print(\"Saving to vocals folder...\")\n",
    "                    vocals_file = os.path.join(vocals_dir, output['name'])\n",
    "                    with open(vocals_file, 'wb') as out_f:\n",
    "                        out_f.write(audio_content)\n",
    "                    separated_files.append(vocals_file)\n",
    "\n",
    "                if \"other\" in output['name']:\n",
    "                    print(\"Saving to crowd folder...\")\n",
    "                    crowd_file = os.path.join(crowd_dir, output['name'])\n",
    "                    with open(crowd_file, 'wb') as out_f:\n",
    "                        out_f.write(audio_content)\n",
    "                    separated_files.append(crowd_file)\n",
    "        else:\n",
    "            print(f\"Failed to process chunk {chunk_file}: {response.text}\")\n",
    "\n",
    "    \n",
    "    file_stem = os.path.basename(os.path.splitext(input_file)[0])\n",
    "    combined_vocals = combineWavFiles(output_dir, f\"{file_stem}_commentator.wav\", vocals_dir)\n",
    "    combined_crowd = combineWavFiles(output_dir, f\"{file_stem}_crowd.wav\", crowd_dir)\n",
    "\n",
    "    shutil.rmtree(temp_dir)\n",
    "    shutil.rmtree(vocals_dir)\n",
    "    shutil.rmtree(crowd_dir)\n",
    "\n",
    "    print(\"Processing completed.\")\n",
    "    return combined_vocals, combined_crowd"
   ]
  },
  {
   "cell_type": "code",
   "execution_count": null,
   "id": "20a94f35-5e38-48f5-b99a-617f45fc51bd",
   "metadata": {},
   "outputs": [],
   "source": [
    "def playAudioFiles(combined_vocals_list, combined_crowd_list):\n",
    "    for vocal, crowd in zip(combined_vocals_list, combined_crowd_list):\n",
    "        if os.path.exists(vocal) and os.path.exists(crowd):\n",
    "            print(f\"Playing {vocal}\")\n",
    "            display(Audio(vocal))\n",
    "            print(f\"Playing {crowd}\")\n",
    "            display(Audio(crowd))\n",
    "            print(\"-------------------\")\n",
    "        else:\n",
    "            print(f\"File not found: {vocal} or {crowd}\")\n"
   ]
  },
  {
   "cell_type": "code",
   "execution_count": 86,
   "id": "970b1bb2-8ee3-4cf2-8875-de9958a65d15",
   "metadata": {},
   "outputs": [],
   "source": [
    "input_dir = \"match_recordings\" # This is where the input audio is\n",
    "output_dir = \"separated_audio\"\n",
    "API_KEY = 'e45e_0691_b2688b4710eefa14afed1c6b4a7dff8c3b5e1dea25dec254708b2750275b335b'\n",
    "API_URL = 'https://api.techhub.developer.sony.com/mss/api/inference'"
   ]
  },
  {
   "cell_type": "code",
   "execution_count": 88,
   "id": "c1a68adc-1401-4189-bf64-63bdb6d5884c",
   "metadata": {},
   "outputs": [
    {
     "name": "stdout",
     "output_type": "stream",
     "text": [
      "Processing file: match_recordings\\brentford_newcastle.mp3\n",
      "Converting match_recordings\\brentford_newcastle.mp3 to WAV...\n",
      "Splitting WAV file into 30-second chunks...\n",
      "Processing chunk: temp_chunks\\chunk_0.wav\n",
      "Saving to vocals folder...\n",
      "Saving to crowd folder...\n",
      "Processing chunk: temp_chunks\\chunk_1.wav\n",
      "Saving to vocals folder...\n",
      "Saving to crowd folder...\n",
      "Adding chunk_0_vocals.wav...\n",
      "Adding chunk_1_vocals.wav...\n",
      "Combined audio saved to: separated_audio\\brentford_newcastle_commentator.wav\n",
      "Adding chunk_0_other.wav...\n",
      "Adding chunk_1_other.wav...\n",
      "Combined audio saved to: separated_audio\\brentford_newcastle_crowd.wav\n",
      "Processing completed.\n"
     ]
    }
   ],
   "source": [
    "combined_vocals_list = []\n",
    "combined_crowd_list = []\n",
    "for file_name in os.listdir(input_dir):\n",
    "        if file_name.endswith('.mp3'):\n",
    "            input_file = os.path.join(input_dir, file_name)\n",
    "            print(f\"Processing file: {input_file}\")\n",
    "            combined_vocals,combined_crowd = processAudioFile(input_file, output_dir, API_KEY, API_URL)\n",
    "            combined_vocals_list.append(combined_vocals)\n",
    "            combined_crowd_list.append(combined_crowd_list)"
   ]
  },
  {
   "cell_type": "code",
   "execution_count": 102,
   "id": "1a4388c4-2154-4f1b-9d93-bb26fff17a94",
   "metadata": {},
   "outputs": [
    {
     "name": "stdout",
     "output_type": "stream",
     "text": [
      "['separated_audio\\\\brentford_newcastle_commentator.wav']\n"
     ]
    },
    {
     "ename": "TypeError",
     "evalue": "_path_exists: path should be string, bytes, os.PathLike or integer, not list",
     "output_type": "error",
     "traceback": [
      "\u001b[1;31m---------------------------------------------------------------------------\u001b[0m",
      "\u001b[1;31mTypeError\u001b[0m                                 Traceback (most recent call last)",
      "Cell \u001b[1;32mIn[102], line 3\u001b[0m\n\u001b[0;32m      1\u001b[0m \u001b[38;5;28mprint\u001b[39m(combined_vocals_list)\n\u001b[0;32m      2\u001b[0m \u001b[38;5;28;01mfor\u001b[39;00m vocal, crowd \u001b[38;5;129;01min\u001b[39;00m \u001b[38;5;28mzip\u001b[39m(combined_vocals_list, combined_crowd_list):\n\u001b[1;32m----> 3\u001b[0m     \u001b[38;5;28;01mif\u001b[39;00m os\u001b[38;5;241m.\u001b[39mpath\u001b[38;5;241m.\u001b[39mexists(vocal) \u001b[38;5;129;01mand\u001b[39;00m os\u001b[38;5;241m.\u001b[39mpath\u001b[38;5;241m.\u001b[39mexists(crowd):\n\u001b[0;32m      4\u001b[0m         \u001b[38;5;28mprint\u001b[39m(\u001b[38;5;124mf\u001b[39m\u001b[38;5;124m\"\u001b[39m\u001b[38;5;124mPlaying \u001b[39m\u001b[38;5;132;01m{\u001b[39;00mvocal\u001b[38;5;132;01m}\u001b[39;00m\u001b[38;5;124m\"\u001b[39m)\n\u001b[0;32m      5\u001b[0m         display(Audio(vocal))\n",
      "\u001b[1;31mTypeError\u001b[0m: _path_exists: path should be string, bytes, os.PathLike or integer, not list"
     ]
    }
   ],
   "source": [
    "print(combined_vocals_list)\n",
    "for vocal, crowd in zip(combined_vocals_list, combined_crowd_list):\n",
    "    if os.path.exists(vocal) and os.path.exists(crowd):\n",
    "        print(f\"Playing {vocal}\")\n",
    "        display(Audio(vocal))\n",
    "        print(f\"Playing {crowd}\")\n",
    "        display(Audio(crowd))\n",
    "        print(\"-------------------\")\n",
    "    else:\n",
    "        print(f\"File not found: {vocal} or {crowd}\")\n",
    "\n",
    "        "
   ]
  },
  {
   "cell_type": "code",
   "execution_count": null,
   "id": "e5cf5ed7-747b-4c7b-95fc-1046552ce73c",
   "metadata": {},
   "outputs": [],
   "source": []
  }
 ],
 "metadata": {
  "kernelspec": {
   "display_name": "Python 3 (ipykernel)",
   "language": "python",
   "name": "python3"
  },
  "language_info": {
   "codemirror_mode": {
    "name": "ipython",
    "version": 3
   },
   "file_extension": ".py",
   "mimetype": "text/x-python",
   "name": "python",
   "nbconvert_exporter": "python",
   "pygments_lexer": "ipython3",
   "version": "3.12.7"
  }
 },
 "nbformat": 4,
 "nbformat_minor": 5
}
